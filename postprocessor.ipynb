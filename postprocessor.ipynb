{
  "cells": [
    {
      "cell_type": "markdown",
      "metadata": {
        "id": "P7ZT_bwSTPAJ"
      },
      "source": [
        "## Load function"
      ]
    },
    {
      "cell_type": "code",
      "execution_count": 1,
      "metadata": {
        "colab": {
          "base_uri": "https://localhost:8080/"
        },
        "id": "p3P6VrEcSeXr",
        "outputId": "b8b4f0c7-e0ef-4ffa-a9ce-c579baf267d0"
      },
      "outputs": [
        {
          "name": "stdout",
          "output_type": "stream",
          "text": [
            "Requirement already satisfied: robodk in /opt/anaconda3/lib/python3.9/site-packages (5.5.2)\n",
            "Note: you may need to restart the kernel to use updated packages.\n"
          ]
        }
      ],
      "source": [
        "pip install robodk"
      ]
    },
    {
      "cell_type": "code",
      "execution_count": 2,
      "metadata": {
        "colab": {
          "base_uri": "https://localhost:8080/"
        },
        "id": "DfXKhX-PSj91",
        "outputId": "828c2cc8-25a3-495a-ce38-d97e5d29dd19"
      },
      "outputs": [
        {
          "name": "stdout",
          "output_type": "stream",
          "text": [
            "Installing required module: PySide2 ...\n",
            "Running command:\n",
            "/opt/anaconda3/bin/python -m pip install --upgrade pip\n",
            "...\n",
            "Unable to load or install <strong>PySide2</strong>. Make sure you have internet connection and administrator privileges\n",
            "Installing required module: PySide2 ...\n",
            "Running command:\n",
            "/opt/anaconda3/bin/python -m pip install --upgrade pip\n",
            "...\n",
            "Unable to load or install <strong>PySide2</strong>. Make sure you have internet connection and administrator privileges\n"
          ]
        }
      ],
      "source": [
        "import pandas as pd\n",
        "import numpy as np\n",
        "import re\n",
        "import matplotlib.pyplot as plt\n",
        "import math\n",
        "from math import cos,sin,radians,atan2,pi\n",
        "from robodk.robolink import *\n",
        "from robodk.robomath import * \n",
        "from src.function import degtorad,radtodeg,replacedot,cleandata,variaxis,integrexaxis,\\\n",
        "    invxyz,shifttoolaxis,final_code,firstsector,secondsector,totextfile,extractgcode"
      ]
    },
    {
      "attachments": {},
      "cell_type": "markdown",
      "metadata": {
        "id": "ZwWqNDmwUaa4"
      },
      "source": [
        "# load gcode|"
      ]
    },
    {
      "cell_type": "code",
      "execution_count": 3,
      "metadata": {},
      "outputs": [],
      "source": [
        "reg ='''\n",
        "G00 X32.605 Y27.326 Z-26.817 B178.296 C44.959\n",
        "G18 X32.07 Z-8.825\n",
        "G01 X32.011 Z-6.826 F600.\n",
        "X35.282 Y27.555 Z-6.757 B178.197 C47.062 F36.\n",
        "X37.879 Y28.377 Z-6.681 B178.102 C47.586\n",
        "'''"
      ]
    },
    {
      "cell_type": "markdown",
      "metadata": {
        "id": "RoJ3LvwWUhf4"
      },
      "source": [
        "# process gcode"
      ]
    },
    {
      "cell_type": "code",
      "execution_count": 4,
      "metadata": {
        "colab": {
          "base_uri": "https://localhost:8080/"
        },
        "id": "dvI96JbHTWl7",
        "outputId": "084db70f-bc48-4fd0-b441-18e34014fb93"
      },
      "outputs": [
        {
          "name": "stdout",
          "output_type": "stream",
          "text": [
            "    x_val   y_val    z_val a_val    b_val   c_val\n",
            "0  32.605  27.326  -26.817  None  178.296  44.959\n",
            "1   32.07    None   -8.825  None     None    None\n",
            "2  32.011    None   -6.826  None     None    None\n",
            "3  35.282  27.555   -6.757  None  178.197  47.062\n",
            "4  37.879  28.377   -6.681  None  178.102  47.586\n",
            "['G00', 'G18', 'G01', None, None]\n"
          ]
        }
      ],
      "source": [
        "df,g = extractgcode(reg)\n",
        "print(df.head())\n",
        "print(g[0:5])"
      ]
    },
    {
      "cell_type": "code",
      "execution_count": 5,
      "metadata": {
        "id": "p0geRB-DTzOP"
      },
      "outputs": [],
      "source": [
        "df = df.loc[:2000,:].copy()"
      ]
    },
    {
      "cell_type": "code",
      "execution_count": 6,
      "metadata": {
        "colab": {
          "base_uri": "https://localhost:8080/",
          "height": 204
        },
        "id": "Y3VTDL45TijD",
        "outputId": "4a273166-35e4-4f2f-fa17-4d98b100782a"
      },
      "outputs": [
        {
          "data": {
            "text/html": [
              "<div>\n",
              "<style scoped>\n",
              "    .dataframe tbody tr th:only-of-type {\n",
              "        vertical-align: middle;\n",
              "    }\n",
              "\n",
              "    .dataframe tbody tr th {\n",
              "        vertical-align: top;\n",
              "    }\n",
              "\n",
              "    .dataframe thead th {\n",
              "        text-align: right;\n",
              "    }\n",
              "</style>\n",
              "<table border=\"1\" class=\"dataframe\">\n",
              "  <thead>\n",
              "    <tr style=\"text-align: right;\">\n",
              "      <th></th>\n",
              "      <th>x_val</th>\n",
              "      <th>y_val</th>\n",
              "      <th>z_val</th>\n",
              "      <th>a_val</th>\n",
              "      <th>b_val</th>\n",
              "      <th>c_val</th>\n",
              "    </tr>\n",
              "  </thead>\n",
              "  <tbody>\n",
              "    <tr>\n",
              "      <th>0</th>\n",
              "      <td>32.605</td>\n",
              "      <td>27.326</td>\n",
              "      <td>-26.817</td>\n",
              "      <td>0.0</td>\n",
              "      <td>178.296</td>\n",
              "      <td>44.959</td>\n",
              "    </tr>\n",
              "    <tr>\n",
              "      <th>1</th>\n",
              "      <td>32.070</td>\n",
              "      <td>27.326</td>\n",
              "      <td>-8.825</td>\n",
              "      <td>0.0</td>\n",
              "      <td>178.296</td>\n",
              "      <td>44.959</td>\n",
              "    </tr>\n",
              "    <tr>\n",
              "      <th>2</th>\n",
              "      <td>32.011</td>\n",
              "      <td>27.326</td>\n",
              "      <td>-6.826</td>\n",
              "      <td>0.0</td>\n",
              "      <td>178.296</td>\n",
              "      <td>44.959</td>\n",
              "    </tr>\n",
              "    <tr>\n",
              "      <th>3</th>\n",
              "      <td>35.282</td>\n",
              "      <td>27.555</td>\n",
              "      <td>-6.757</td>\n",
              "      <td>0.0</td>\n",
              "      <td>178.197</td>\n",
              "      <td>47.062</td>\n",
              "    </tr>\n",
              "    <tr>\n",
              "      <th>4</th>\n",
              "      <td>37.879</td>\n",
              "      <td>28.377</td>\n",
              "      <td>-6.681</td>\n",
              "      <td>0.0</td>\n",
              "      <td>178.102</td>\n",
              "      <td>47.586</td>\n",
              "    </tr>\n",
              "  </tbody>\n",
              "</table>\n",
              "</div>"
            ],
            "text/plain": [
              "    x_val   y_val   z_val  a_val    b_val   c_val\n",
              "0  32.605  27.326 -26.817    0.0  178.296  44.959\n",
              "1  32.070  27.326  -8.825    0.0  178.296  44.959\n",
              "2  32.011  27.326  -6.826    0.0  178.296  44.959\n",
              "3  35.282  27.555  -6.757    0.0  178.197  47.062\n",
              "4  37.879  28.377  -6.681    0.0  178.102  47.586"
            ]
          },
          "execution_count": 6,
          "metadata": {},
          "output_type": "execute_result"
        }
      ],
      "source": [
        "clean = cleandata(df)\n",
        "clean.head()"
      ]
    },
    {
      "cell_type": "code",
      "execution_count": 7,
      "metadata": {
        "colab": {
          "base_uri": "https://localhost:8080/",
          "height": 204
        },
        "id": "UQnjvPNPTlSn",
        "outputId": "a620421e-cf21-44a0-a924-2f53960c91d1"
      },
      "outputs": [
        {
          "data": {
            "text/html": [
              "<div>\n",
              "<style scoped>\n",
              "    .dataframe tbody tr th:only-of-type {\n",
              "        vertical-align: middle;\n",
              "    }\n",
              "\n",
              "    .dataframe tbody tr th {\n",
              "        vertical-align: top;\n",
              "    }\n",
              "\n",
              "    .dataframe thead th {\n",
              "        text-align: right;\n",
              "    }\n",
              "</style>\n",
              "<table border=\"1\" class=\"dataframe\">\n",
              "  <thead>\n",
              "    <tr style=\"text-align: right;\">\n",
              "      <th></th>\n",
              "      <th>x_new</th>\n",
              "      <th>y_new</th>\n",
              "      <th>z_new</th>\n",
              "      <th>a_new</th>\n",
              "      <th>b_new</th>\n",
              "      <th>c_new</th>\n",
              "    </tr>\n",
              "  </thead>\n",
              "  <tbody>\n",
              "    <tr>\n",
              "      <th>0</th>\n",
              "      <td>3.763141</td>\n",
              "      <td>42.374935</td>\n",
              "      <td>-26.817</td>\n",
              "      <td>180.0</td>\n",
              "      <td>1.704</td>\n",
              "      <td>-135.041</td>\n",
              "    </tr>\n",
              "    <tr>\n",
              "      <th>1</th>\n",
              "      <td>3.384568</td>\n",
              "      <td>41.996903</td>\n",
              "      <td>-8.825</td>\n",
              "      <td>180.0</td>\n",
              "      <td>1.704</td>\n",
              "      <td>-135.041</td>\n",
              "    </tr>\n",
              "    <tr>\n",
              "      <th>2</th>\n",
              "      <td>3.342819</td>\n",
              "      <td>41.955214</td>\n",
              "      <td>-6.826</td>\n",
              "      <td>180.0</td>\n",
              "      <td>1.704</td>\n",
              "      <td>-135.041</td>\n",
              "    </tr>\n",
              "    <tr>\n",
              "      <th>3</th>\n",
              "      <td>3.861555</td>\n",
              "      <td>44.600291</td>\n",
              "      <td>-6.757</td>\n",
              "      <td>180.0</td>\n",
              "      <td>1.803</td>\n",
              "      <td>-132.938</td>\n",
              "    </tr>\n",
              "    <tr>\n",
              "      <th>4</th>\n",
              "      <td>4.598263</td>\n",
              "      <td>47.105507</td>\n",
              "      <td>-6.681</td>\n",
              "      <td>180.0</td>\n",
              "      <td>1.898</td>\n",
              "      <td>-132.414</td>\n",
              "    </tr>\n",
              "  </tbody>\n",
              "</table>\n",
              "</div>"
            ],
            "text/plain": [
              "      x_new      y_new   z_new  a_new  b_new    c_new\n",
              "0  3.763141  42.374935 -26.817  180.0  1.704 -135.041\n",
              "1  3.384568  41.996903  -8.825  180.0  1.704 -135.041\n",
              "2  3.342819  41.955214  -6.826  180.0  1.704 -135.041\n",
              "3  3.861555  44.600291  -6.757  180.0  1.803 -132.938\n",
              "4  4.598263  47.105507  -6.681  180.0  1.898 -132.414"
            ]
          },
          "execution_count": 7,
          "metadata": {},
          "output_type": "execute_result"
        }
      ],
      "source": [
        "d = integrexaxis(clean)\n",
        "d.head()"
      ]
    },
    {
      "cell_type": "code",
      "execution_count": 8,
      "metadata": {
        "colab": {
          "base_uri": "https://localhost:8080/"
        },
        "id": "bgxnO0FV6dsp",
        "outputId": "b3930e9a-d6c8-4d6e-9fe3-2be924d05fcf"
      },
      "outputs": [
        {
          "name": "stdout",
          "output_type": "stream",
          "text": [
            "Pose(3.763, 42.375, -26.817,  -178.796, 1.206, 135.028):\n",
            "[[ -0.7072996793240822, -0.7066006051872337, 0.021041586848084718, 3.7631405260015462 ],\n",
            " [ -0.7062881369233814, 0.7076125951034472, 0.021011494289163716, 42.37493450592655 ],\n",
            " [ -0.029736026455278976, 0.0, -0.999557786588975, -26.817 ],\n",
            " [ 0.0, 0.0, 0.0, 1.0 ]]\n",
            "\n",
            "Pose(3.763, 42.375, -26.817,  -178.796, 1.206, 135.028):\n",
            "[[ -0.7072996793240823, -0.7066006051872336, 0.021041586848084635, 3.7631405260015462 ],\n",
            " [ -0.7062881369233813, 0.7076125951034473, 0.021011494289163803, 42.37493450592655 ],\n",
            " [ -0.02973602645527898, 1.2241052439090014e-16, -0.999557786588975, -26.817 ],\n",
            " [ 0.000, 0.000, 0.000, 1.000 ]]\n",
            "\n",
            "True\n"
          ]
        }
      ],
      "source": [
        "rob = rotz(clean.iloc[0,5]*pi/180)*transl(clean.iloc[0,0],clean.iloc[0,1],clean.iloc[0,2])*roty(clean.iloc[0,4]*pi/180)\n",
        "print(rob)\n",
        "Fanuc = transl(d.iloc[0,0],d.iloc[0,1],d.iloc[0,2])*rotz(d.iloc[0,5]*pi/180)*roty(d.iloc[0,4]*pi/180)*rotx(d.iloc[0,3]*pi/180)\n",
        "print(Fanuc)\n",
        "print(rob==Fanuc)"
      ]
    },
    {
      "cell_type": "code",
      "execution_count": 9,
      "metadata": {
        "id": "TbaL_PGLT2Ki"
      },
      "outputs": [],
      "source": [
        "# firstsector(d,[1,2,3,4,5,6,7,8,9],g,\"stem\")\n",
        "# secondsector(d)"
      ]
    },
    {
      "cell_type": "code",
      "execution_count": 10,
      "metadata": {
        "id": "oBHcWg5FuMOT"
      },
      "outputs": [],
      "source": [
        "totextfile(d,[1,2,3,4,5,6,7,8,9],g,\"stemwing no shift\")"
      ]
    },
    {
      "cell_type": "code",
      "execution_count": 11,
      "metadata": {
        "colab": {
          "base_uri": "https://localhost:8080/",
          "height": 204
        },
        "id": "AET8z5goTpXs",
        "outputId": "52bf5ab1-b172-48e7-fcdb-b555ad696595"
      },
      "outputs": [
        {
          "data": {
            "text/html": [
              "<div>\n",
              "<style scoped>\n",
              "    .dataframe tbody tr th:only-of-type {\n",
              "        vertical-align: middle;\n",
              "    }\n",
              "\n",
              "    .dataframe tbody tr th {\n",
              "        vertical-align: top;\n",
              "    }\n",
              "\n",
              "    .dataframe thead th {\n",
              "        text-align: right;\n",
              "    }\n",
              "</style>\n",
              "<table border=\"1\" class=\"dataframe\">\n",
              "  <thead>\n",
              "    <tr style=\"text-align: right;\">\n",
              "      <th></th>\n",
              "      <th>x_new</th>\n",
              "      <th>y_new</th>\n",
              "      <th>z_new</th>\n",
              "      <th>a_new</th>\n",
              "      <th>b_new</th>\n",
              "      <th>c_new</th>\n",
              "    </tr>\n",
              "  </thead>\n",
              "  <tbody>\n",
              "    <tr>\n",
              "      <th>0</th>\n",
              "      <td>31.793</td>\n",
              "      <td>-27.326</td>\n",
              "      <td>-27.775</td>\n",
              "      <td>178.796</td>\n",
              "      <td>-1.206</td>\n",
              "      <td>-135.028</td>\n",
              "    </tr>\n",
              "    <tr>\n",
              "      <th>1</th>\n",
              "      <td>31.793</td>\n",
              "      <td>-27.326</td>\n",
              "      <td>-9.775</td>\n",
              "      <td>178.796</td>\n",
              "      <td>-1.206</td>\n",
              "      <td>-135.028</td>\n",
              "    </tr>\n",
              "    <tr>\n",
              "      <th>2</th>\n",
              "      <td>31.794</td>\n",
              "      <td>-27.326</td>\n",
              "      <td>-7.775</td>\n",
              "      <td>178.796</td>\n",
              "      <td>-1.206</td>\n",
              "      <td>-135.028</td>\n",
              "    </tr>\n",
              "    <tr>\n",
              "      <th>3</th>\n",
              "      <td>35.052</td>\n",
              "      <td>-27.555</td>\n",
              "      <td>-7.864</td>\n",
              "      <td>178.680</td>\n",
              "      <td>-1.228</td>\n",
              "      <td>-132.924</td>\n",
              "    </tr>\n",
              "    <tr>\n",
              "      <th>4</th>\n",
              "      <td>37.637</td>\n",
              "      <td>-28.377</td>\n",
              "      <td>-7.932</td>\n",
              "      <td>178.598</td>\n",
              "      <td>-1.280</td>\n",
              "      <td>-132.398</td>\n",
              "    </tr>\n",
              "  </tbody>\n",
              "</table>\n",
              "</div>"
            ],
            "text/plain": [
              "    x_new   y_new   z_new    a_new  b_new    c_new\n",
              "0  31.793 -27.326 -27.775  178.796 -1.206 -135.028\n",
              "1  31.793 -27.326  -9.775  178.796 -1.206 -135.028\n",
              "2  31.794 -27.326  -7.775  178.796 -1.206 -135.028\n",
              "3  35.052 -27.555  -7.864  178.680 -1.228 -132.924\n",
              "4  37.637 -28.377  -7.932  178.598 -1.280 -132.398"
            ]
          },
          "execution_count": 11,
          "metadata": {},
          "output_type": "execute_result"
        }
      ],
      "source": [
        "a = invxyz(d)\n",
        "a.head()"
      ]
    },
    {
      "cell_type": "code",
      "execution_count": 12,
      "metadata": {
        "colab": {
          "base_uri": "https://localhost:8080/",
          "height": 204
        },
        "id": "DEBfI4i8acUo",
        "outputId": "7f8bde8d-207b-4ecb-8414-090f1ae75ef1"
      },
      "outputs": [
        {
          "data": {
            "text/html": [
              "<div>\n",
              "<style scoped>\n",
              "    .dataframe tbody tr th:only-of-type {\n",
              "        vertical-align: middle;\n",
              "    }\n",
              "\n",
              "    .dataframe tbody tr th {\n",
              "        vertical-align: top;\n",
              "    }\n",
              "\n",
              "    .dataframe thead th {\n",
              "        text-align: right;\n",
              "    }\n",
              "</style>\n",
              "<table border=\"1\" class=\"dataframe\">\n",
              "  <thead>\n",
              "    <tr style=\"text-align: right;\">\n",
              "      <th></th>\n",
              "      <th>x_new</th>\n",
              "      <th>y_new</th>\n",
              "      <th>z_new</th>\n",
              "      <th>a_new</th>\n",
              "      <th>b_new</th>\n",
              "      <th>c_new</th>\n",
              "    </tr>\n",
              "  </thead>\n",
              "  <tbody>\n",
              "    <tr>\n",
              "      <th>1</th>\n",
              "      <td>31.793</td>\n",
              "      <td>-27.326</td>\n",
              "      <td>-9.775</td>\n",
              "      <td>45.054</td>\n",
              "      <td>88.296</td>\n",
              "      <td>-179.987</td>\n",
              "    </tr>\n",
              "    <tr>\n",
              "      <th>2</th>\n",
              "      <td>31.794</td>\n",
              "      <td>-27.326</td>\n",
              "      <td>-7.775</td>\n",
              "      <td>45.054</td>\n",
              "      <td>88.296</td>\n",
              "      <td>-179.987</td>\n",
              "    </tr>\n",
              "    <tr>\n",
              "      <th>3</th>\n",
              "      <td>35.052</td>\n",
              "      <td>-27.555</td>\n",
              "      <td>-7.864</td>\n",
              "      <td>42.939</td>\n",
              "      <td>88.197</td>\n",
              "      <td>-179.999</td>\n",
              "    </tr>\n",
              "    <tr>\n",
              "      <th>4</th>\n",
              "      <td>37.637</td>\n",
              "      <td>-28.377</td>\n",
              "      <td>-7.932</td>\n",
              "      <td>42.403</td>\n",
              "      <td>88.102</td>\n",
              "      <td>179.989</td>\n",
              "    </tr>\n",
              "    <tr>\n",
              "      <th>5</th>\n",
              "      <td>37.637</td>\n",
              "      <td>-28.377</td>\n",
              "      <td>-7.932</td>\n",
              "      <td>42.403</td>\n",
              "      <td>88.102</td>\n",
              "      <td>179.989</td>\n",
              "    </tr>\n",
              "  </tbody>\n",
              "</table>\n",
              "</div>"
            ],
            "text/plain": [
              "    x_new   y_new  z_new   a_new   b_new    c_new\n",
              "1  31.793 -27.326 -9.775  45.054  88.296 -179.987\n",
              "2  31.794 -27.326 -7.775  45.054  88.296 -179.987\n",
              "3  35.052 -27.555 -7.864  42.939  88.197 -179.999\n",
              "4  37.637 -28.377 -7.932  42.403  88.102  179.989\n",
              "5  37.637 -28.377 -7.932  42.403  88.102  179.989"
            ]
          },
          "execution_count": 12,
          "metadata": {},
          "output_type": "execute_result"
        }
      ],
      "source": [
        "shift = shifttoolaxis(0,0,0,90,0,90,a)\n",
        "shift.tail()"
      ]
    },
    {
      "cell_type": "code",
      "execution_count": 13,
      "metadata": {
        "id": "bVUZbmeD5FXy"
      },
      "outputs": [],
      "source": [
        "totextfile(shift,[1,2,3,4,5,6,9],g,\"sidere\")"
      ]
    }
  ],
  "metadata": {
    "colab": {
      "provenance": []
    },
    "kernelspec": {
      "display_name": "base",
      "language": "python",
      "name": "python3"
    },
    "language_info": {
      "codemirror_mode": {
        "name": "ipython",
        "version": 3
      },
      "file_extension": ".py",
      "mimetype": "text/x-python",
      "name": "python",
      "nbconvert_exporter": "python",
      "pygments_lexer": "ipython3",
      "version": "3.9.12"
    },
    "vscode": {
      "interpreter": {
        "hash": "40d3a090f54c6569ab1632332b64b2c03c39dcf918b08424e98f38b5ae0af88f"
      }
    }
  },
  "nbformat": 4,
  "nbformat_minor": 0
}
